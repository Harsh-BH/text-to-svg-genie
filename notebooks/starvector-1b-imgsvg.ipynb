{
 "cells": [
  {
   "cell_type": "markdown",
   "id": "c47964ec",
   "metadata": {
    "papermill": {
     "duration": 0.002556,
     "end_time": "2025-04-25T14:46:34.616835",
     "exception": false,
     "start_time": "2025-04-25T14:46:34.614279",
     "status": "completed"
    },
    "tags": []
   },
   "source": [
    "* I'm excited to share a new approach for generating SVG code.\n",
    "* 我很高兴和大家分享一个新的产生SVG代码的方式\n",
    "* The SVG generation workflow demonstrated by this code is as follows:\n",
    "* SVG生成过程如下所示\n",
    "* Project URL: [https://github.com/joanrod/star-vector](https://github.com/joanrod/star-vector)\n",
    "* 项目原地址看这个URL\n",
    "* Many users couldn't directly utilize this project because it implemented Flash_attention, which cannot run on T4 GPUs.\n",
    "* 很多用户无法直接运行这个项目在GPUT4上因为Flash_attention\n",
    "* I've modified the code in the project to remove Flash_attention.\n",
    "* 老外可能看不懂中文，所以我告诉你们，我直接在模型配置文件里把flashattention给禁掉了，所以现在可以用了\n",
    "  "
   ]
  },
  {
   "cell_type": "markdown",
   "id": "8e3a26b4",
   "metadata": {
    "papermill": {
     "duration": 0.001601,
     "end_time": "2025-04-25T14:46:34.620558",
     "exception": false,
     "start_time": "2025-04-25T14:46:34.618957",
     "status": "completed"
    },
    "tags": []
   },
   "source": [
    "* First, enable the network button in the right sidebar and install the required dependencies before proceeding with subsequent steps.\n",
    "* 你丫运行这个代码的时候记得先把右边栏的网络打开和依赖安装掉\n",
    "* Or you can directly run this code, but remember to enable the network connection. If the network is already enabled, please disregard this reminder.\n",
    "* 我知道你丫可能看不懂这个步骤，那你老老实实的把运行下面的代码吧\n",
    "* !pip install git+https://github.com/hzdzkjdxyjs/meanless-project.git"
   ]
  },
  {
   "cell_type": "code",
   "execution_count": 1,
   "id": "4c5b1ac0",
   "metadata": {
    "execution": {
     "iopub.execute_input": "2025-04-25T14:46:34.625028Z",
     "iopub.status.busy": "2025-04-25T14:46:34.624708Z",
     "iopub.status.idle": "2025-04-25T14:46:34.628536Z",
     "shell.execute_reply": "2025-04-25T14:46:34.627935Z"
    },
    "papermill": {
     "duration": 0.007194,
     "end_time": "2025-04-25T14:46:34.629509",
     "exception": false,
     "start_time": "2025-04-25T14:46:34.622315",
     "status": "completed"
    },
    "tags": []
   },
   "outputs": [
    {
     "name": "stdout",
     "output_type": "stream",
     "text": [
      "Collecting git+https://github.com/Harsh-BH/text-to-svg-genie.git#subdirectory=model\n",
      "  Cloning https://github.com/Harsh-BH/text-to-svg-genie.git to /tmp/pip-req-build-pv6rm4s9\n",
      "  Running command git clone --filter=blob:none --quiet https://github.com/Harsh-BH/text-to-svg-genie.git /tmp/pip-req-build-pv6rm4s9\n",
      "  Resolved https://github.com/Harsh-BH/text-to-svg-genie.git to commit 68c2d43a8dbfcbd16581ac5d7f59503634d7d236\n",
      "  Installing build dependencies ... \u001b[?25ldone\n",
      "\u001b[?25h  Getting requirements to build wheel ... \u001b[?25ldone\n",
      "\u001b[?25h  Preparing metadata (pyproject.toml) ... \u001b[?25ldone\n",
      "\u001b[?25hRequirement already satisfied: torch==2.5.1 in /home/harsh1/github-repos/text-to-svg-genie/venv/lib/python3.11/site-packages (from starvector==1.0) (2.5.1)\n",
      "Requirement already satisfied: torchvision==0.20.1 in /home/harsh1/github-repos/text-to-svg-genie/venv/lib/python3.11/site-packages (from starvector==1.0) (0.20.1)\n",
      "Requirement already satisfied: transformers==4.49.0 in /home/harsh1/github-repos/text-to-svg-genie/venv/lib/python3.11/site-packages (from starvector==1.0) (4.49.0)\n",
      "Requirement already satisfied: tokenizers==0.21.1 in /home/harsh1/github-repos/text-to-svg-genie/venv/lib/python3.11/site-packages (from starvector==1.0) (0.21.1)\n",
      "Requirement already satisfied: sentencepiece==0.2.0 in /home/harsh1/github-repos/text-to-svg-genie/venv/lib/python3.11/site-packages (from starvector==1.0) (0.2.0)\n",
      "Requirement already satisfied: accelerate in /home/harsh1/github-repos/text-to-svg-genie/venv/lib/python3.11/site-packages (from starvector==1.0) (1.6.0)\n",
      "Requirement already satisfied: pydantic==2.10 in /home/harsh1/github-repos/text-to-svg-genie/venv/lib/python3.11/site-packages (from starvector==1.0) (2.10.0)\n",
      "Requirement already satisfied: markdown2[all] in /home/harsh1/github-repos/text-to-svg-genie/venv/lib/python3.11/site-packages (from starvector==1.0) (2.5.3)\n",
      "Requirement already satisfied: numpy<2.0.0 in /home/harsh1/github-repos/text-to-svg-genie/venv/lib/python3.11/site-packages (from starvector==1.0) (1.26.4)\n",
      "Requirement already satisfied: scikit-learn==1.2.2 in /home/harsh1/github-repos/text-to-svg-genie/venv/lib/python3.11/site-packages (from starvector==1.0) (1.2.2)\n",
      "Requirement already satisfied: gradio==3.36.1 in /home/harsh1/github-repos/text-to-svg-genie/venv/lib/python3.11/site-packages (from starvector==1.0) (3.36.1)\n",
      "Requirement already satisfied: gradio_client==0.2.9 in /home/harsh1/github-repos/text-to-svg-genie/venv/lib/python3.11/site-packages (from starvector==1.0) (0.2.9)\n",
      "Requirement already satisfied: requests in /home/harsh1/github-repos/text-to-svg-genie/venv/lib/python3.11/site-packages (from starvector==1.0) (2.32.3)\n",
      "Requirement already satisfied: httpx==0.24.0 in /home/harsh1/github-repos/text-to-svg-genie/venv/lib/python3.11/site-packages (from starvector==1.0) (0.24.0)\n",
      "Requirement already satisfied: uvicorn in /home/harsh1/github-repos/text-to-svg-genie/venv/lib/python3.11/site-packages (from starvector==1.0) (0.34.2)\n",
      "Requirement already satisfied: fastapi in /home/harsh1/github-repos/text-to-svg-genie/venv/lib/python3.11/site-packages (from starvector==1.0) (0.115.12)\n",
      "Requirement already satisfied: svgpathtools==1.6.1 in /home/harsh1/github-repos/text-to-svg-genie/venv/lib/python3.11/site-packages (from starvector==1.0) (1.6.1)\n",
      "Requirement already satisfied: seaborn==0.12.2 in /home/harsh1/github-repos/text-to-svg-genie/venv/lib/python3.11/site-packages (from starvector==1.0) (0.12.2)\n",
      "Requirement already satisfied: taming-transformers in /home/harsh1/github-repos/text-to-svg-genie/venv/lib/python3.11/site-packages (from starvector==1.0) (0.0.1)\n",
      "Requirement already satisfied: lpips in /home/harsh1/github-repos/text-to-svg-genie/venv/lib/python3.11/site-packages (from starvector==1.0) (0.1.4)\n",
      "Requirement already satisfied: cairosvg in /home/harsh1/github-repos/text-to-svg-genie/venv/lib/python3.11/site-packages (from starvector==1.0) (2.7.1)\n",
      "Requirement already satisfied: beautifulsoup4 in /home/harsh1/github-repos/text-to-svg-genie/venv/lib/python3.11/site-packages (from starvector==1.0) (4.13.4)\n",
      "Requirement already satisfied: webcolors in /home/harsh1/github-repos/text-to-svg-genie/venv/lib/python3.11/site-packages (from starvector==1.0) (24.11.1)\n",
      "Requirement already satisfied: tqdm in /home/harsh1/github-repos/text-to-svg-genie/venv/lib/python3.11/site-packages (from starvector==1.0) (4.67.1)\n",
      "Requirement already satisfied: omegaconf in /home/harsh1/github-repos/text-to-svg-genie/venv/lib/python3.11/site-packages (from starvector==1.0) (2.3.0)\n",
      "Requirement already satisfied: open-clip-torch in /home/harsh1/github-repos/text-to-svg-genie/venv/lib/python3.11/site-packages (from starvector==1.0) (2.32.0)\n",
      "Requirement already satisfied: noise in /home/harsh1/github-repos/text-to-svg-genie/venv/lib/python3.11/site-packages (from starvector==1.0) (1.2.2)\n",
      "Requirement already satisfied: datasets in /home/harsh1/github-repos/text-to-svg-genie/venv/lib/python3.11/site-packages (from starvector==1.0) (3.5.0)\n",
      "Requirement already satisfied: scikit-image in /home/harsh1/github-repos/text-to-svg-genie/venv/lib/python3.11/site-packages (from starvector==1.0) (0.24.0)\n",
      "Requirement already satisfied: fairscale in /home/harsh1/github-repos/text-to-svg-genie/venv/lib/python3.11/site-packages (from starvector==1.0) (0.4.13)\n",
      "Requirement already satisfied: lxml in /home/harsh1/github-repos/text-to-svg-genie/venv/lib/python3.11/site-packages (from starvector==1.0) (5.4.0)\n",
      "Requirement already satisfied: torch-fidelity in /home/harsh1/github-repos/text-to-svg-genie/venv/lib/python3.11/site-packages (from starvector==1.0) (0.3.0)\n",
      "Requirement already satisfied: clip-openai in /home/harsh1/github-repos/text-to-svg-genie/venv/lib/python3.11/site-packages (from starvector==1.0) (1.0.post20230121)\n",
      "Requirement already satisfied: scipy==1.11.1 in /home/harsh1/github-repos/text-to-svg-genie/venv/lib/python3.11/site-packages (from starvector==1.0) (1.11.1)\n",
      "Requirement already satisfied: sentence-transformers in /home/harsh1/github-repos/text-to-svg-genie/venv/lib/python3.11/site-packages (from starvector==1.0) (4.1.0)\n",
      "Requirement already satisfied: reportlab in /home/harsh1/github-repos/text-to-svg-genie/venv/lib/python3.11/site-packages (from starvector==1.0) (4.4.0)\n",
      "Requirement already satisfied: svglib in /home/harsh1/github-repos/text-to-svg-genie/venv/lib/python3.11/site-packages (from starvector==1.0) (1.5.1)\n",
      "Requirement already satisfied: Pillow in /home/harsh1/github-repos/text-to-svg-genie/venv/lib/python3.11/site-packages (from starvector==1.0) (11.2.1)\n",
      "Requirement already satisfied: protobuf in /home/harsh1/github-repos/text-to-svg-genie/venv/lib/python3.11/site-packages (from starvector==1.0) (6.30.2)\n",
      "Requirement already satisfied: openai in /home/harsh1/github-repos/text-to-svg-genie/venv/lib/python3.11/site-packages (from starvector==1.0) (1.76.0)\n",
      "Requirement already satisfied: aiofiles in /home/harsh1/github-repos/text-to-svg-genie/venv/lib/python3.11/site-packages (from gradio==3.36.1->starvector==1.0) (24.1.0)\n",
      "Requirement already satisfied: aiohttp in /home/harsh1/github-repos/text-to-svg-genie/venv/lib/python3.11/site-packages (from gradio==3.36.1->starvector==1.0) (3.11.18)\n",
      "Requirement already satisfied: altair>=4.2.0 in /home/harsh1/github-repos/text-to-svg-genie/venv/lib/python3.11/site-packages (from gradio==3.36.1->starvector==1.0) (5.5.0)\n",
      "Requirement already satisfied: ffmpy in /home/harsh1/github-repos/text-to-svg-genie/venv/lib/python3.11/site-packages (from gradio==3.36.1->starvector==1.0) (0.5.0)\n",
      "Requirement already satisfied: huggingface-hub>=0.14.0 in /home/harsh1/github-repos/text-to-svg-genie/venv/lib/python3.11/site-packages (from gradio==3.36.1->starvector==1.0) (0.30.2)\n",
      "Requirement already satisfied: jinja2 in /home/harsh1/github-repos/text-to-svg-genie/venv/lib/python3.11/site-packages (from gradio==3.36.1->starvector==1.0) (3.1.6)\n",
      "Requirement already satisfied: markdown-it-py>=2.0.0 in /home/harsh1/github-repos/text-to-svg-genie/venv/lib/python3.11/site-packages (from markdown-it-py[linkify]>=2.0.0->gradio==3.36.1->starvector==1.0) (2.2.0)\n",
      "Requirement already satisfied: markupsafe in /home/harsh1/github-repos/text-to-svg-genie/venv/lib/python3.11/site-packages (from gradio==3.36.1->starvector==1.0) (3.0.2)\n",
      "Requirement already satisfied: matplotlib in /home/harsh1/github-repos/text-to-svg-genie/venv/lib/python3.11/site-packages (from gradio==3.36.1->starvector==1.0) (3.10.1)\n",
      "Requirement already satisfied: mdit-py-plugins<=0.3.3 in /home/harsh1/github-repos/text-to-svg-genie/venv/lib/python3.11/site-packages (from gradio==3.36.1->starvector==1.0) (0.3.3)\n",
      "Requirement already satisfied: orjson in /home/harsh1/github-repos/text-to-svg-genie/venv/lib/python3.11/site-packages (from gradio==3.36.1->starvector==1.0) (3.10.16)\n",
      "Requirement already satisfied: pandas in /home/harsh1/github-repos/text-to-svg-genie/venv/lib/python3.11/site-packages (from gradio==3.36.1->starvector==1.0) (2.2.3)\n",
      "Requirement already satisfied: pydub in /home/harsh1/github-repos/text-to-svg-genie/venv/lib/python3.11/site-packages (from gradio==3.36.1->starvector==1.0) (0.25.1)\n",
      "Requirement already satisfied: pygments>=2.12.0 in /home/harsh1/github-repos/text-to-svg-genie/venv/lib/python3.11/site-packages (from gradio==3.36.1->starvector==1.0) (2.19.1)\n",
      "Requirement already satisfied: python-multipart in /home/harsh1/github-repos/text-to-svg-genie/venv/lib/python3.11/site-packages (from gradio==3.36.1->starvector==1.0) (0.0.20)\n",
      "Requirement already satisfied: pyyaml in /home/harsh1/github-repos/text-to-svg-genie/venv/lib/python3.11/site-packages (from gradio==3.36.1->starvector==1.0) (6.0.2)\n",
      "Requirement already satisfied: semantic-version in /home/harsh1/github-repos/text-to-svg-genie/venv/lib/python3.11/site-packages (from gradio==3.36.1->starvector==1.0) (2.10.0)\n",
      "Requirement already satisfied: websockets>=10.0 in /home/harsh1/github-repos/text-to-svg-genie/venv/lib/python3.11/site-packages (from gradio==3.36.1->starvector==1.0) (15.0.1)\n",
      "Requirement already satisfied: fsspec in /home/harsh1/github-repos/text-to-svg-genie/venv/lib/python3.11/site-packages (from gradio_client==0.2.9->starvector==1.0) (2024.12.0)\n",
      "Requirement already satisfied: packaging in /home/harsh1/github-repos/text-to-svg-genie/venv/lib/python3.11/site-packages (from gradio_client==0.2.9->starvector==1.0) (25.0)\n",
      "Requirement already satisfied: typing-extensions in /home/harsh1/github-repos/text-to-svg-genie/venv/lib/python3.11/site-packages (from gradio_client==0.2.9->starvector==1.0) (4.13.2)\n",
      "Requirement already satisfied: certifi in /home/harsh1/github-repos/text-to-svg-genie/venv/lib/python3.11/site-packages (from httpx==0.24.0->starvector==1.0) (2025.4.26)\n",
      "Requirement already satisfied: httpcore<0.18.0,>=0.15.0 in /home/harsh1/github-repos/text-to-svg-genie/venv/lib/python3.11/site-packages (from httpx==0.24.0->starvector==1.0) (0.17.3)\n",
      "Requirement already satisfied: idna in /home/harsh1/github-repos/text-to-svg-genie/venv/lib/python3.11/site-packages (from httpx==0.24.0->starvector==1.0) (3.10)\n",
      "Requirement already satisfied: sniffio in /home/harsh1/github-repos/text-to-svg-genie/venv/lib/python3.11/site-packages (from httpx==0.24.0->starvector==1.0) (1.3.1)\n",
      "Requirement already satisfied: annotated-types>=0.6.0 in /home/harsh1/github-repos/text-to-svg-genie/venv/lib/python3.11/site-packages (from pydantic==2.10->starvector==1.0) (0.7.0)\n",
      "Requirement already satisfied: pydantic-core==2.27.0 in /home/harsh1/github-repos/text-to-svg-genie/venv/lib/python3.11/site-packages (from pydantic==2.10->starvector==1.0) (2.27.0)\n",
      "Requirement already satisfied: joblib>=1.1.1 in /home/harsh1/github-repos/text-to-svg-genie/venv/lib/python3.11/site-packages (from scikit-learn==1.2.2->starvector==1.0) (1.4.2)\n",
      "Requirement already satisfied: threadpoolctl>=2.0.0 in /home/harsh1/github-repos/text-to-svg-genie/venv/lib/python3.11/site-packages (from scikit-learn==1.2.2->starvector==1.0) (3.6.0)\n",
      "Requirement already satisfied: svgwrite in /home/harsh1/github-repos/text-to-svg-genie/venv/lib/python3.11/site-packages (from svgpathtools==1.6.1->starvector==1.0) (1.4.3)\n",
      "Requirement already satisfied: filelock in /home/harsh1/github-repos/text-to-svg-genie/venv/lib/python3.11/site-packages (from torch==2.5.1->starvector==1.0) (3.18.0)\n",
      "Requirement already satisfied: networkx in /home/harsh1/github-repos/text-to-svg-genie/venv/lib/python3.11/site-packages (from torch==2.5.1->starvector==1.0) (3.4.2)\n",
      "Requirement already satisfied: nvidia-cuda-nvrtc-cu12==12.4.127 in /home/harsh1/github-repos/text-to-svg-genie/venv/lib/python3.11/site-packages (from torch==2.5.1->starvector==1.0) (12.4.127)\n",
      "Requirement already satisfied: nvidia-cuda-runtime-cu12==12.4.127 in /home/harsh1/github-repos/text-to-svg-genie/venv/lib/python3.11/site-packages (from torch==2.5.1->starvector==1.0) (12.4.127)\n",
      "Requirement already satisfied: nvidia-cuda-cupti-cu12==12.4.127 in /home/harsh1/github-repos/text-to-svg-genie/venv/lib/python3.11/site-packages (from torch==2.5.1->starvector==1.0) (12.4.127)\n",
      "Requirement already satisfied: nvidia-cudnn-cu12==9.1.0.70 in /home/harsh1/github-repos/text-to-svg-genie/venv/lib/python3.11/site-packages (from torch==2.5.1->starvector==1.0) (9.1.0.70)\n",
      "Requirement already satisfied: nvidia-cublas-cu12==12.4.5.8 in /home/harsh1/github-repos/text-to-svg-genie/venv/lib/python3.11/site-packages (from torch==2.5.1->starvector==1.0) (12.4.5.8)\n",
      "Requirement already satisfied: nvidia-cufft-cu12==11.2.1.3 in /home/harsh1/github-repos/text-to-svg-genie/venv/lib/python3.11/site-packages (from torch==2.5.1->starvector==1.0) (11.2.1.3)\n",
      "Requirement already satisfied: nvidia-curand-cu12==10.3.5.147 in /home/harsh1/github-repos/text-to-svg-genie/venv/lib/python3.11/site-packages (from torch==2.5.1->starvector==1.0) (10.3.5.147)\n",
      "Requirement already satisfied: nvidia-cusolver-cu12==11.6.1.9 in /home/harsh1/github-repos/text-to-svg-genie/venv/lib/python3.11/site-packages (from torch==2.5.1->starvector==1.0) (11.6.1.9)\n",
      "Requirement already satisfied: nvidia-cusparse-cu12==12.3.1.170 in /home/harsh1/github-repos/text-to-svg-genie/venv/lib/python3.11/site-packages (from torch==2.5.1->starvector==1.0) (12.3.1.170)\n",
      "Requirement already satisfied: nvidia-nccl-cu12==2.21.5 in /home/harsh1/github-repos/text-to-svg-genie/venv/lib/python3.11/site-packages (from torch==2.5.1->starvector==1.0) (2.21.5)\n",
      "Requirement already satisfied: nvidia-nvtx-cu12==12.4.127 in /home/harsh1/github-repos/text-to-svg-genie/venv/lib/python3.11/site-packages (from torch==2.5.1->starvector==1.0) (12.4.127)\n",
      "Requirement already satisfied: nvidia-nvjitlink-cu12==12.4.127 in /home/harsh1/github-repos/text-to-svg-genie/venv/lib/python3.11/site-packages (from torch==2.5.1->starvector==1.0) (12.4.127)\n",
      "Requirement already satisfied: triton==3.1.0 in /home/harsh1/github-repos/text-to-svg-genie/venv/lib/python3.11/site-packages (from torch==2.5.1->starvector==1.0) (3.1.0)\n",
      "Requirement already satisfied: sympy==1.13.1 in /home/harsh1/github-repos/text-to-svg-genie/venv/lib/python3.11/site-packages (from torch==2.5.1->starvector==1.0) (1.13.1)\n",
      "Requirement already satisfied: regex!=2019.12.17 in /home/harsh1/github-repos/text-to-svg-genie/venv/lib/python3.11/site-packages (from transformers==4.49.0->starvector==1.0) (2024.11.6)\n",
      "Requirement already satisfied: safetensors>=0.4.1 in /home/harsh1/github-repos/text-to-svg-genie/venv/lib/python3.11/site-packages (from transformers==4.49.0->starvector==1.0) (0.5.3)\n",
      "Requirement already satisfied: mpmath<1.4,>=1.1.0 in /home/harsh1/github-repos/text-to-svg-genie/venv/lib/python3.11/site-packages (from sympy==1.13.1->torch==2.5.1->starvector==1.0) (1.3.0)\n",
      "Requirement already satisfied: click>=7.0 in /home/harsh1/github-repos/text-to-svg-genie/venv/lib/python3.11/site-packages (from uvicorn->starvector==1.0) (8.1.8)\n",
      "Requirement already satisfied: h11>=0.8 in /home/harsh1/github-repos/text-to-svg-genie/venv/lib/python3.11/site-packages (from uvicorn->starvector==1.0) (0.14.0)\n",
      "Requirement already satisfied: psutil in /home/harsh1/github-repos/text-to-svg-genie/venv/lib/python3.11/site-packages (from accelerate->starvector==1.0) (7.0.0)\n",
      "Requirement already satisfied: soupsieve>1.2 in /home/harsh1/github-repos/text-to-svg-genie/venv/lib/python3.11/site-packages (from beautifulsoup4->starvector==1.0) (2.7)\n",
      "Requirement already satisfied: cairocffi in /home/harsh1/github-repos/text-to-svg-genie/venv/lib/python3.11/site-packages (from cairosvg->starvector==1.0) (1.7.1)\n",
      "Requirement already satisfied: cssselect2 in /home/harsh1/github-repos/text-to-svg-genie/venv/lib/python3.11/site-packages (from cairosvg->starvector==1.0) (0.8.0)\n",
      "Requirement already satisfied: defusedxml in /home/harsh1/github-repos/text-to-svg-genie/venv/lib/python3.11/site-packages (from cairosvg->starvector==1.0) (0.7.1)\n",
      "Requirement already satisfied: tinycss2 in /home/harsh1/github-repos/text-to-svg-genie/venv/lib/python3.11/site-packages (from cairosvg->starvector==1.0) (1.4.0)\n",
      "Requirement already satisfied: ftfy in /home/harsh1/github-repos/text-to-svg-genie/venv/lib/python3.11/site-packages (from clip-openai->starvector==1.0) (6.3.1)\n",
      "Requirement already satisfied: pyarrow>=15.0.0 in /home/harsh1/github-repos/text-to-svg-genie/venv/lib/python3.11/site-packages (from datasets->starvector==1.0) (20.0.0)\n",
      "Requirement already satisfied: dill<0.3.9,>=0.3.0 in /home/harsh1/github-repos/text-to-svg-genie/venv/lib/python3.11/site-packages (from datasets->starvector==1.0) (0.3.8)\n",
      "Requirement already satisfied: xxhash in /home/harsh1/github-repos/text-to-svg-genie/venv/lib/python3.11/site-packages (from datasets->starvector==1.0) (3.5.0)\n",
      "Requirement already satisfied: multiprocess<0.70.17 in /home/harsh1/github-repos/text-to-svg-genie/venv/lib/python3.11/site-packages (from datasets->starvector==1.0) (0.70.16)\n",
      "Requirement already satisfied: charset-normalizer<4,>=2 in /home/harsh1/github-repos/text-to-svg-genie/venv/lib/python3.11/site-packages (from requests->starvector==1.0) (3.4.1)\n",
      "Requirement already satisfied: urllib3<3,>=1.21.1 in /home/harsh1/github-repos/text-to-svg-genie/venv/lib/python3.11/site-packages (from requests->starvector==1.0) (2.4.0)\n",
      "Requirement already satisfied: starlette<0.47.0,>=0.40.0 in /home/harsh1/github-repos/text-to-svg-genie/venv/lib/python3.11/site-packages (from fastapi->starvector==1.0) (0.46.2)\n",
      "Requirement already satisfied: wavedrom in /home/harsh1/github-repos/text-to-svg-genie/venv/lib/python3.11/site-packages (from markdown2[all]->starvector==1.0) (2.0.3.post3)\n",
      "Requirement already satisfied: latex2mathml in /home/harsh1/github-repos/text-to-svg-genie/venv/lib/python3.11/site-packages (from markdown2[all]->starvector==1.0) (3.77.0)\n",
      "Requirement already satisfied: antlr4-python3-runtime==4.9.* in /home/harsh1/github-repos/text-to-svg-genie/venv/lib/python3.11/site-packages (from omegaconf->starvector==1.0) (4.9.3)\n",
      "Requirement already satisfied: timm in /home/harsh1/github-repos/text-to-svg-genie/venv/lib/python3.11/site-packages (from open-clip-torch->starvector==1.0) (0.6.13)\n",
      "Requirement already satisfied: anyio<5,>=3.5.0 in /home/harsh1/github-repos/text-to-svg-genie/venv/lib/python3.11/site-packages (from openai->starvector==1.0) (4.9.0)\n",
      "Requirement already satisfied: distro<2,>=1.7.0 in /home/harsh1/github-repos/text-to-svg-genie/venv/lib/python3.11/site-packages (from openai->starvector==1.0) (1.9.0)\n",
      "Requirement already satisfied: jiter<1,>=0.4.0 in /home/harsh1/github-repos/text-to-svg-genie/venv/lib/python3.11/site-packages (from openai->starvector==1.0) (0.9.0)\n",
      "Requirement already satisfied: chardet in /home/harsh1/github-repos/text-to-svg-genie/venv/lib/python3.11/site-packages (from reportlab->starvector==1.0) (5.2.0)\n",
      "Requirement already satisfied: imageio>=2.33 in /home/harsh1/github-repos/text-to-svg-genie/venv/lib/python3.11/site-packages (from scikit-image->starvector==1.0) (2.37.0)\n",
      "Requirement already satisfied: tifffile>=2022.8.12 in /home/harsh1/github-repos/text-to-svg-genie/venv/lib/python3.11/site-packages (from scikit-image->starvector==1.0) (2025.3.30)\n",
      "Requirement already satisfied: lazy-loader>=0.4 in /home/harsh1/github-repos/text-to-svg-genie/venv/lib/python3.11/site-packages (from scikit-image->starvector==1.0) (0.4)\n",
      "Requirement already satisfied: pytorch-lightning>=1.0.8 in /home/harsh1/github-repos/text-to-svg-genie/venv/lib/python3.11/site-packages (from taming-transformers->starvector==1.0) (2.5.1.post0)\n",
      "Requirement already satisfied: jsonschema>=3.0 in /home/harsh1/github-repos/text-to-svg-genie/venv/lib/python3.11/site-packages (from altair>=4.2.0->gradio==3.36.1->starvector==1.0) (4.23.0)\n",
      "Requirement already satisfied: narwhals>=1.14.2 in /home/harsh1/github-repos/text-to-svg-genie/venv/lib/python3.11/site-packages (from altair>=4.2.0->gradio==3.36.1->starvector==1.0) (1.36.0)\n",
      "Requirement already satisfied: webencodings in /home/harsh1/github-repos/text-to-svg-genie/venv/lib/python3.11/site-packages (from cssselect2->cairosvg->starvector==1.0) (0.5.1)\n",
      "Requirement already satisfied: aiohappyeyeballs>=2.3.0 in /home/harsh1/github-repos/text-to-svg-genie/venv/lib/python3.11/site-packages (from aiohttp->gradio==3.36.1->starvector==1.0) (2.6.1)\n",
      "Requirement already satisfied: aiosignal>=1.1.2 in /home/harsh1/github-repos/text-to-svg-genie/venv/lib/python3.11/site-packages (from aiohttp->gradio==3.36.1->starvector==1.0) (1.3.2)\n",
      "Requirement already satisfied: attrs>=17.3.0 in /home/harsh1/github-repos/text-to-svg-genie/venv/lib/python3.11/site-packages (from aiohttp->gradio==3.36.1->starvector==1.0) (25.3.0)\n",
      "Requirement already satisfied: frozenlist>=1.1.1 in /home/harsh1/github-repos/text-to-svg-genie/venv/lib/python3.11/site-packages (from aiohttp->gradio==3.36.1->starvector==1.0) (1.6.0)\n",
      "Requirement already satisfied: multidict<7.0,>=4.5 in /home/harsh1/github-repos/text-to-svg-genie/venv/lib/python3.11/site-packages (from aiohttp->gradio==3.36.1->starvector==1.0) (6.4.3)\n",
      "Requirement already satisfied: propcache>=0.2.0 in /home/harsh1/github-repos/text-to-svg-genie/venv/lib/python3.11/site-packages (from aiohttp->gradio==3.36.1->starvector==1.0) (0.3.1)\n",
      "Requirement already satisfied: yarl<2.0,>=1.17.0 in /home/harsh1/github-repos/text-to-svg-genie/venv/lib/python3.11/site-packages (from aiohttp->gradio==3.36.1->starvector==1.0) (1.20.0)\n",
      "Requirement already satisfied: mdurl~=0.1 in /home/harsh1/github-repos/text-to-svg-genie/venv/lib/python3.11/site-packages (from markdown-it-py>=2.0.0->markdown-it-py[linkify]>=2.0.0->gradio==3.36.1->starvector==1.0) (0.1.2)\n",
      "Requirement already satisfied: linkify-it-py<3,>=1 in /home/harsh1/github-repos/text-to-svg-genie/venv/lib/python3.11/site-packages (from markdown-it-py[linkify]>=2.0.0->gradio==3.36.1->starvector==1.0) (2.0.3)\n",
      "Requirement already satisfied: contourpy>=1.0.1 in /home/harsh1/github-repos/text-to-svg-genie/venv/lib/python3.11/site-packages (from matplotlib->gradio==3.36.1->starvector==1.0) (1.3.2)\n",
      "Requirement already satisfied: cycler>=0.10 in /home/harsh1/github-repos/text-to-svg-genie/venv/lib/python3.11/site-packages (from matplotlib->gradio==3.36.1->starvector==1.0) (0.12.1)\n",
      "Requirement already satisfied: fonttools>=4.22.0 in /home/harsh1/github-repos/text-to-svg-genie/venv/lib/python3.11/site-packages (from matplotlib->gradio==3.36.1->starvector==1.0) (4.57.0)\n",
      "Requirement already satisfied: kiwisolver>=1.3.1 in /home/harsh1/github-repos/text-to-svg-genie/venv/lib/python3.11/site-packages (from matplotlib->gradio==3.36.1->starvector==1.0) (1.4.8)\n",
      "Requirement already satisfied: pyparsing>=2.3.1 in /home/harsh1/github-repos/text-to-svg-genie/venv/lib/python3.11/site-packages (from matplotlib->gradio==3.36.1->starvector==1.0) (3.2.3)\n",
      "Requirement already satisfied: python-dateutil>=2.7 in /home/harsh1/github-repos/text-to-svg-genie/venv/lib/python3.11/site-packages (from matplotlib->gradio==3.36.1->starvector==1.0) (2.9.0.post0)\n",
      "Requirement already satisfied: pytz>=2020.1 in /home/harsh1/github-repos/text-to-svg-genie/venv/lib/python3.11/site-packages (from pandas->gradio==3.36.1->starvector==1.0) (2025.2)\n",
      "Requirement already satisfied: tzdata>=2022.7 in /home/harsh1/github-repos/text-to-svg-genie/venv/lib/python3.11/site-packages (from pandas->gradio==3.36.1->starvector==1.0) (2025.2)\n",
      "Requirement already satisfied: torchmetrics>=0.7.0 in /home/harsh1/github-repos/text-to-svg-genie/venv/lib/python3.11/site-packages (from pytorch-lightning>=1.0.8->taming-transformers->starvector==1.0) (1.7.1)\n",
      "Requirement already satisfied: lightning-utilities>=0.10.0 in /home/harsh1/github-repos/text-to-svg-genie/venv/lib/python3.11/site-packages (from pytorch-lightning>=1.0.8->taming-transformers->starvector==1.0) (0.14.3)\n",
      "Requirement already satisfied: cffi>=1.1.0 in /home/harsh1/github-repos/text-to-svg-genie/venv/lib/python3.11/site-packages (from cairocffi->cairosvg->starvector==1.0) (1.17.1)\n",
      "Requirement already satisfied: wcwidth in /home/harsh1/github-repos/text-to-svg-genie/venv/lib/python3.11/site-packages (from ftfy->clip-openai->starvector==1.0) (0.2.13)\n",
      "Requirement already satisfied: six in /home/harsh1/github-repos/text-to-svg-genie/venv/lib/python3.11/site-packages (from wavedrom->markdown2[all]->starvector==1.0) (1.17.0)\n",
      "Requirement already satisfied: pycparser in /home/harsh1/github-repos/text-to-svg-genie/venv/lib/python3.11/site-packages (from cffi>=1.1.0->cairocffi->cairosvg->starvector==1.0) (2.22)\n",
      "Requirement already satisfied: jsonschema-specifications>=2023.03.6 in /home/harsh1/github-repos/text-to-svg-genie/venv/lib/python3.11/site-packages (from jsonschema>=3.0->altair>=4.2.0->gradio==3.36.1->starvector==1.0) (2025.4.1)\n",
      "Requirement already satisfied: referencing>=0.28.4 in /home/harsh1/github-repos/text-to-svg-genie/venv/lib/python3.11/site-packages (from jsonschema>=3.0->altair>=4.2.0->gradio==3.36.1->starvector==1.0) (0.36.2)\n",
      "Requirement already satisfied: rpds-py>=0.7.1 in /home/harsh1/github-repos/text-to-svg-genie/venv/lib/python3.11/site-packages (from jsonschema>=3.0->altair>=4.2.0->gradio==3.36.1->starvector==1.0) (0.24.0)\n",
      "Requirement already satisfied: setuptools in /home/harsh1/github-repos/text-to-svg-genie/venv/lib/python3.11/site-packages (from lightning-utilities>=0.10.0->pytorch-lightning>=1.0.8->taming-transformers->starvector==1.0) (65.5.0)\n",
      "Requirement already satisfied: uc-micro-py in /home/harsh1/github-repos/text-to-svg-genie/venv/lib/python3.11/site-packages (from linkify-it-py<3,>=1->markdown-it-py[linkify]>=2.0.0->gradio==3.36.1->starvector==1.0) (1.0.3)\n",
      "\n",
      "\u001b[1m[\u001b[0m\u001b[34;49mnotice\u001b[0m\u001b[1;39;49m]\u001b[0m\u001b[39;49m A new release of pip is available: \u001b[0m\u001b[31;49m24.0\u001b[0m\u001b[39;49m -> \u001b[0m\u001b[32;49m25.1\u001b[0m\n",
      "\u001b[1m[\u001b[0m\u001b[34;49mnotice\u001b[0m\u001b[1;39;49m]\u001b[0m\u001b[39;49m To update, run: \u001b[0m\u001b[32;49mpip install --upgrade pip\u001b[0m\n"
     ]
    }
   ],
   "source": [
    "!pip install git+https://github.com/Harsh-BH/text-to-svg-genie.git#subdirectory=model\n"
   ]
  },
  {
   "cell_type": "markdown",
   "id": "5bcbdb23",
   "metadata": {
    "papermill": {
     "duration": 0.001705,
     "end_time": "2025-04-25T14:46:34.633100",
     "exception": false,
     "start_time": "2025-04-25T14:46:34.631395",
     "status": "completed"
    },
    "tags": []
   },
   "source": [
    "* Load and Launch Model from Kaggle\n",
    "* 从kagglehub加载模型"
   ]
  },
  {
   "cell_type": "code",
   "execution_count": 2,
   "id": "df50ecf9",
   "metadata": {
    "execution": {
     "iopub.execute_input": "2025-04-25T14:46:34.637503Z",
     "iopub.status.busy": "2025-04-25T14:46:34.637299Z",
     "iopub.status.idle": "2025-04-25T14:47:48.946436Z",
     "shell.execute_reply": "2025-04-25T14:47:48.945681Z"
    },
    "papermill": {
     "duration": 74.312677,
     "end_time": "2025-04-25T14:47:48.947702",
     "exception": false,
     "start_time": "2025-04-25T14:46:34.635025",
     "status": "completed"
    },
    "tags": []
   },
   "outputs": [
    {
     "name": "stderr",
     "output_type": "stream",
     "text": [
      "/home/harsh1/github-repos/text-to-svg-genie/venv/lib/python3.11/site-packages/tqdm/auto.py:21: TqdmWarning: IProgress not found. Please update jupyter and ipywidgets. See https://ipywidgets.readthedocs.io/en/stable/user_install.html\n",
      "  from .autonotebook import tqdm as notebook_tqdm\n",
      "The new embeddings will be initialized from a multivariate normal distribution that has old embeddings' mean and covariance. As described in this article: https://nlp.stanford.edu/~johnhew/vocab-expansion.html. To disable this, use `mean_resizing=False`\n"
     ]
    },
    {
     "name": "stdout",
     "output_type": "stream",
     "text": [
      "trainable params: 0 || all params: 1434095106 || trainable%: 0.0\n"
     ]
    },
    {
     "name": "stderr",
     "output_type": "stream",
     "text": [
      "Loading checkpoint shards: 100%|██████████| 2/2 [00:04<00:00,  2.23s/it]\n"
     ]
    }
   ],
   "source": [
    "from PIL import Image\n",
    "from starvector.model.starvector_arch import StarVectorForCausalLM\n",
    "from starvector.data.util import process_and_rasterize_svg\n",
    "import torch\n",
    "import kagglehub\n",
    "import os \n",
    "path = kagglehub.model_download(\"adelinadolbow/starvector-1b-imgsvg/transformers/default\")\n",
    "base_model_path = os.path.join(path, \"starcoderbase-1b\")\n",
    "model_path = os.path.join(path, \"starvector-1b-im2svg\")\n",
    "starvector =  StarVectorForCausalLM.from_pretrained(model_path,\n",
    "                                                    torch_dtype=torch.float16,\n",
    "                                                   starcoder_model_name=base_model_path,\n",
    "                                                   use_flash_attn=False\n",
    "                                                   )\n",
    "processor = starvector.model.processor\n",
    "tokenizer = starvector.model.svg_transformer.tokenizer\n",
    "\n",
    "\n"
   ]
  },
  {
   "cell_type": "code",
   "execution_count": 3,
   "id": "21e4ee56",
   "metadata": {},
   "outputs": [
    {
     "name": "stdout",
     "output_type": "stream",
     "text": [
      "True\n",
      "12.4\n"
     ]
    }
   ],
   "source": [
    "import torch\n",
    "print(torch.cuda.is_available())  # Should return True\n",
    "print(torch.version.cuda)  # Check PyTorch's CUDA runtime version\n"
   ]
  },
  {
   "cell_type": "code",
   "execution_count": 7,
   "id": "e4ec76f6",
   "metadata": {
    "vscode": {
     "languageId": "markdown"
    }
   },
   "outputs": [
    {
     "ename": "MissingCUDAException",
     "evalue": "CUDA_HOME does not exist, unable to compile CUDA op(s)",
     "output_type": "error",
     "traceback": [
      "\u001b[31m---------------------------------------------------------------------------\u001b[39m",
      "\u001b[31mMissingCUDAException\u001b[39m                      Traceback (most recent call last)",
      "\u001b[36mCell\u001b[39m\u001b[36m \u001b[39m\u001b[32mIn[7]\u001b[39m\u001b[32m, line 5\u001b[39m\n\u001b[32m      2\u001b[39m \u001b[38;5;28;01mimport\u001b[39;00m\u001b[38;5;250m \u001b[39m\u001b[34;01mtorch\u001b[39;00m\n\u001b[32m      4\u001b[39m \u001b[38;5;66;03m# Load model and tokenizer\u001b[39;00m\n\u001b[32m----> \u001b[39m\u001b[32m5\u001b[39m model = \u001b[43mAutoModelForCausalLM\u001b[49m\u001b[43m.\u001b[49m\u001b[43mfrom_pretrained\u001b[49m\u001b[43m(\u001b[49m\u001b[33;43m\"\u001b[39;49m\u001b[33;43mstarvector/starvector-8b-im2svg\u001b[39;49m\u001b[33;43m\"\u001b[39;49m\u001b[43m,\u001b[49m\u001b[43m \u001b[49m\u001b[43mtrust_remote_code\u001b[49m\u001b[43m=\u001b[49m\u001b[38;5;28;43;01mTrue\u001b[39;49;00m\u001b[43m)\u001b[49m\n\u001b[32m      6\u001b[39m tokenizer = model.svg_transformer.tokenizer\n\u001b[32m      7\u001b[39m model.cuda()\n",
      "\u001b[36mFile \u001b[39m\u001b[32m~/github-repos/text-to-svg-genie/venv/lib/python3.11/site-packages/transformers/models/auto/auto_factory.py:559\u001b[39m, in \u001b[36m_BaseAutoModelClass.from_pretrained\u001b[39m\u001b[34m(cls, pretrained_model_name_or_path, *model_args, **kwargs)\u001b[39m\n\u001b[32m    557\u001b[39m     \u001b[38;5;28mcls\u001b[39m.register(config.\u001b[34m__class__\u001b[39m, model_class, exist_ok=\u001b[38;5;28;01mTrue\u001b[39;00m)\n\u001b[32m    558\u001b[39m     model_class = add_generation_mixin_to_remote_model(model_class)\n\u001b[32m--> \u001b[39m\u001b[32m559\u001b[39m     \u001b[38;5;28;01mreturn\u001b[39;00m \u001b[43mmodel_class\u001b[49m\u001b[43m.\u001b[49m\u001b[43mfrom_pretrained\u001b[49m\u001b[43m(\u001b[49m\n\u001b[32m    560\u001b[39m \u001b[43m        \u001b[49m\u001b[43mpretrained_model_name_or_path\u001b[49m\u001b[43m,\u001b[49m\u001b[43m \u001b[49m\u001b[43m*\u001b[49m\u001b[43mmodel_args\u001b[49m\u001b[43m,\u001b[49m\u001b[43m \u001b[49m\u001b[43mconfig\u001b[49m\u001b[43m=\u001b[49m\u001b[43mconfig\u001b[49m\u001b[43m,\u001b[49m\u001b[43m \u001b[49m\u001b[43m*\u001b[49m\u001b[43m*\u001b[49m\u001b[43mhub_kwargs\u001b[49m\u001b[43m,\u001b[49m\u001b[43m \u001b[49m\u001b[43m*\u001b[49m\u001b[43m*\u001b[49m\u001b[43mkwargs\u001b[49m\n\u001b[32m    561\u001b[39m \u001b[43m    \u001b[49m\u001b[43m)\u001b[49m\n\u001b[32m    562\u001b[39m \u001b[38;5;28;01melif\u001b[39;00m \u001b[38;5;28mtype\u001b[39m(config) \u001b[38;5;129;01min\u001b[39;00m \u001b[38;5;28mcls\u001b[39m._model_mapping.keys():\n\u001b[32m    563\u001b[39m     model_class = _get_model_class(config, \u001b[38;5;28mcls\u001b[39m._model_mapping)\n",
      "\u001b[36mFile \u001b[39m\u001b[32m~/github-repos/text-to-svg-genie/venv/lib/python3.11/site-packages/transformers/modeling_utils.py:262\u001b[39m, in \u001b[36mrestore_default_torch_dtype.<locals>._wrapper\u001b[39m\u001b[34m(*args, **kwargs)\u001b[39m\n\u001b[32m    260\u001b[39m old_dtype = torch.get_default_dtype()\n\u001b[32m    261\u001b[39m \u001b[38;5;28;01mtry\u001b[39;00m:\n\u001b[32m--> \u001b[39m\u001b[32m262\u001b[39m     \u001b[38;5;28;01mreturn\u001b[39;00m \u001b[43mfunc\u001b[49m\u001b[43m(\u001b[49m\u001b[43m*\u001b[49m\u001b[43margs\u001b[49m\u001b[43m,\u001b[49m\u001b[43m \u001b[49m\u001b[43m*\u001b[49m\u001b[43m*\u001b[49m\u001b[43mkwargs\u001b[49m\u001b[43m)\u001b[49m\n\u001b[32m    263\u001b[39m \u001b[38;5;28;01mfinally\u001b[39;00m:\n\u001b[32m    264\u001b[39m     torch.set_default_dtype(old_dtype)\n",
      "\u001b[36mFile \u001b[39m\u001b[32m~/github-repos/text-to-svg-genie/venv/lib/python3.11/site-packages/transformers/modeling_utils.py:4185\u001b[39m, in \u001b[36mPreTrainedModel.from_pretrained\u001b[39m\u001b[34m(cls, pretrained_model_name_or_path, config, cache_dir, ignore_mismatched_sizes, force_download, local_files_only, token, revision, use_safetensors, weights_only, *model_args, **kwargs)\u001b[39m\n\u001b[32m   4179\u001b[39m     config = \u001b[38;5;28mcls\u001b[39m._autoset_attn_implementation(\n\u001b[32m   4180\u001b[39m         config, use_flash_attention_2=use_flash_attention_2, torch_dtype=torch_dtype, device_map=device_map\n\u001b[32m   4181\u001b[39m     )\n\u001b[32m   4183\u001b[39m \u001b[38;5;28;01mwith\u001b[39;00m ContextManagers(init_contexts):\n\u001b[32m   4184\u001b[39m     \u001b[38;5;66;03m# Let's make sure we don't run the init function of buffer modules\u001b[39;00m\n\u001b[32m-> \u001b[39m\u001b[32m4185\u001b[39m     model = \u001b[38;5;28;43mcls\u001b[39;49m\u001b[43m(\u001b[49m\u001b[43mconfig\u001b[49m\u001b[43m,\u001b[49m\u001b[43m \u001b[49m\u001b[43m*\u001b[49m\u001b[43mmodel_args\u001b[49m\u001b[43m,\u001b[49m\u001b[43m \u001b[49m\u001b[43m*\u001b[49m\u001b[43m*\u001b[49m\u001b[43mmodel_kwargs\u001b[49m\u001b[43m)\u001b[49m\n\u001b[32m   4187\u001b[39m \u001b[38;5;66;03m# make sure we use the model's config since the __init__ call might have copied it\u001b[39;00m\n\u001b[32m   4188\u001b[39m config = model.config\n",
      "\u001b[36mFile \u001b[39m\u001b[32m~/.cache/huggingface/modules/transformers_modules/starvector/starvector-8b-im2svg/518beea8dcb5f7a37c5911e92d1d62a76beee7f9/starvector_arch.py:52\u001b[39m, in \u001b[36mStarVectorForCausalLM.__init__\u001b[39m\u001b[34m(self, config, **kwargs)\u001b[39m\n\u001b[32m     50\u001b[39m \u001b[38;5;28;01mif\u001b[39;00m \u001b[33m'\u001b[39m\u001b[33mstarcoder2\u001b[39m\u001b[33m'\u001b[39m \u001b[38;5;129;01min\u001b[39;00m starcoder_model_name:\n\u001b[32m     51\u001b[39m     \u001b[38;5;28;01mfrom\u001b[39;00m\u001b[38;5;250m \u001b[39m\u001b[34;01mstarvector\u001b[39;00m\u001b[34;01m.\u001b[39;00m\u001b[34;01mmodel\u001b[39;00m\u001b[34;01m.\u001b[39;00m\u001b[34;01mmodels\u001b[39;00m\u001b[34;01m.\u001b[39;00m\u001b[34;01mstarvector_v2\u001b[39;00m\u001b[38;5;250m \u001b[39m\u001b[38;5;28;01mimport\u001b[39;00m StarVectorStarCoder2\n\u001b[32m---> \u001b[39m\u001b[32m52\u001b[39m     \u001b[38;5;28mself\u001b[39m.model = \u001b[43mStarVectorStarCoder2\u001b[49m\u001b[43m(\u001b[49m\u001b[43mconfig\u001b[49m\u001b[43m=\u001b[49m\u001b[43mconfig\u001b[49m\u001b[43m,\u001b[49m\u001b[43m \u001b[49m\u001b[43m*\u001b[49m\u001b[43m*\u001b[49m\u001b[43mkwargs\u001b[49m\u001b[43m)\u001b[49m\n\u001b[32m     53\u001b[39m \u001b[38;5;28;01melse\u001b[39;00m:\n\u001b[32m     54\u001b[39m     \u001b[38;5;28;01mfrom\u001b[39;00m\u001b[38;5;250m \u001b[39m\u001b[34;01mstarvector\u001b[39;00m\u001b[34;01m.\u001b[39;00m\u001b[34;01mmodel\u001b[39;00m\u001b[34;01m.\u001b[39;00m\u001b[34;01mmodels\u001b[39;00m\u001b[34;01m.\u001b[39;00m\u001b[34;01mstarvector_v1\u001b[39;00m\u001b[38;5;250m \u001b[39m\u001b[38;5;28;01mimport\u001b[39;00m StarVectorStarCoder\n",
      "\u001b[36mFile \u001b[39m\u001b[32m~/github-repos/text-to-svg-genie/venv/lib/python3.11/site-packages/starvector/model/models/starvector_v2.py:10\u001b[39m, in \u001b[36mStarVectorStarCoder2.__init__\u001b[39m\u001b[34m(self, config, **kwargs)\u001b[39m\n\u001b[32m      9\u001b[39m \u001b[38;5;28;01mdef\u001b[39;00m\u001b[38;5;250m \u001b[39m\u001b[34m__init__\u001b[39m(\u001b[38;5;28mself\u001b[39m, config, **kwargs):\n\u001b[32m---> \u001b[39m\u001b[32m10\u001b[39m     \u001b[38;5;28;43msuper\u001b[39;49m\u001b[43m(\u001b[49m\u001b[43m)\u001b[49m\u001b[43m.\u001b[49m\u001b[34;43m__init__\u001b[39;49m\u001b[43m(\u001b[49m\u001b[43mconfig\u001b[49m\u001b[43m,\u001b[49m\u001b[43m \u001b[49m\u001b[43m*\u001b[49m\u001b[43m*\u001b[49m\u001b[43mkwargs\u001b[49m\u001b[43m)\u001b[49m\n\u001b[32m     12\u001b[39m     \u001b[38;5;28mself\u001b[39m.processor = AutoImageProcessor.from_pretrained(config._name_or_path, trust_remote_code=\u001b[38;5;28;01mTrue\u001b[39;00m)\n",
      "\u001b[36mFile \u001b[39m\u001b[32m~/github-repos/text-to-svg-genie/venv/lib/python3.11/site-packages/starvector/model/models/starvector_base.py:29\u001b[39m, in \u001b[36mStarVectorBase.__init__\u001b[39m\u001b[34m(self, config, **kwargs)\u001b[39m\n\u001b[32m     27\u001b[39m \u001b[38;5;28mself\u001b[39m.model_precision = kwargs.get(\u001b[33m'\u001b[39m\u001b[33mmodel_precision\u001b[39m\u001b[33m'\u001b[39m, config.torch_dtype)\n\u001b[32m     28\u001b[39m \u001b[38;5;66;03m# Build Code LLM (StarCoder)\u001b[39;00m\n\u001b[32m---> \u001b[39m\u001b[32m29\u001b[39m \u001b[38;5;28mself\u001b[39m.svg_transformer = \u001b[38;5;28;43mself\u001b[39;49m\u001b[43m.\u001b[49m\u001b[43m_get_svg_transformer\u001b[49m\u001b[43m(\u001b[49m\u001b[43mconfig\u001b[49m\u001b[43m,\u001b[49m\u001b[43m \u001b[49m\u001b[43m*\u001b[49m\u001b[43m*\u001b[49m\u001b[43mkwargs\u001b[49m\u001b[43m)\u001b[49m\n\u001b[32m     31\u001b[39m \u001b[38;5;28;01mif\u001b[39;00m \u001b[38;5;28mself\u001b[39m.use_image_encoder():\n\u001b[32m     32\u001b[39m     \u001b[38;5;66;03m# Build Image Encoder\u001b[39;00m\n\u001b[32m     33\u001b[39m     \u001b[38;5;28mself\u001b[39m.image_encoder = ImageEncoder(config, **kwargs)\n",
      "\u001b[36mFile \u001b[39m\u001b[32m~/github-repos/text-to-svg-genie/venv/lib/python3.11/site-packages/starvector/model/models/starvector_v2.py:15\u001b[39m, in \u001b[36mStarVectorStarCoder2._get_svg_transformer\u001b[39m\u001b[34m(self, config, **kwargs)\u001b[39m\n\u001b[32m     14\u001b[39m \u001b[38;5;28;01mdef\u001b[39;00m\u001b[38;5;250m \u001b[39m\u001b[34m_get_svg_transformer\u001b[39m(\u001b[38;5;28mself\u001b[39m, config, **kwargs):\n\u001b[32m---> \u001b[39m\u001b[32m15\u001b[39m     \u001b[38;5;28;01mfrom\u001b[39;00m\u001b[38;5;250m \u001b[39m\u001b[34;01mstarvector\u001b[39;00m\u001b[34;01m.\u001b[39;00m\u001b[34;01mmodel\u001b[39;00m\u001b[34;01m.\u001b[39;00m\u001b[34;01mllm\u001b[39;00m\u001b[34;01m.\u001b[39;00m\u001b[34;01mstarcoder2\u001b[39;00m\u001b[38;5;250m \u001b[39m\u001b[38;5;28;01mimport\u001b[39;00m StarCoderModel \u001b[38;5;66;03m# This is a different model than V1, uses StarCoder2\u001b[39;00m\n\u001b[32m     16\u001b[39m     \u001b[38;5;28;01mreturn\u001b[39;00m StarCoderModel(config, **kwargs)\n",
      "\u001b[36mFile \u001b[39m\u001b[32m~/github-repos/text-to-svg-genie/venv/lib/python3.11/site-packages/starvector/model/llm/starcoder2.py:9\u001b[39m\n\u001b[32m      7\u001b[39m \u001b[38;5;28;01mfrom\u001b[39;00m\u001b[38;5;250m \u001b[39m\u001b[34;01mtorch\u001b[39;00m\u001b[34;01m.\u001b[39;00m\u001b[34;01mdistributed\u001b[39;00m\u001b[34;01m.\u001b[39;00m\u001b[34;01mfsdp\u001b[39;00m\u001b[34;01m.\u001b[39;00m\u001b[34;01mwrap\u001b[39;00m\u001b[38;5;250m \u001b[39m\u001b[38;5;28;01mimport\u001b[39;00m transformer_auto_wrap_policy\n\u001b[32m      8\u001b[39m \u001b[38;5;28;01mfrom\u001b[39;00m\u001b[38;5;250m \u001b[39m\u001b[34;01mfunctools\u001b[39;00m\u001b[38;5;250m \u001b[39m\u001b[38;5;28;01mimport\u001b[39;00m partial\n\u001b[32m----> \u001b[39m\u001b[32m9\u001b[39m \u001b[38;5;28;01mfrom\u001b[39;00m\u001b[38;5;250m \u001b[39m\u001b[34;01mstarvector\u001b[39;00m\u001b[34;01m.\u001b[39;00m\u001b[34;01mtrain\u001b[39;00m\u001b[34;01m.\u001b[39;00m\u001b[34;01mutil\u001b[39;00m\u001b[38;5;250m \u001b[39m\u001b[38;5;28;01mimport\u001b[39;00m get_module_class_from_name\n\u001b[32m     10\u001b[39m \u001b[38;5;28;01mimport\u001b[39;00m\u001b[38;5;250m \u001b[39m\u001b[34;01mtorch\u001b[39;00m\n\u001b[32m     12\u001b[39m \u001b[38;5;28;01mclass\u001b[39;00m\u001b[38;5;250m \u001b[39m\u001b[34;01mStarCoderModel\u001b[39;00m(nn.Module):\n",
      "\u001b[36mFile \u001b[39m\u001b[32m~/github-repos/text-to-svg-genie/venv/lib/python3.11/site-packages/starvector/train/util.py:32\u001b[39m\n\u001b[32m     27\u001b[39m \u001b[38;5;28;01mfrom\u001b[39;00m\u001b[38;5;250m \u001b[39m\u001b[34;01mtransformers\u001b[39;00m\u001b[38;5;250m \u001b[39m\u001b[38;5;28;01mimport\u001b[39;00m (\n\u001b[32m     28\u001b[39m     AutoConfig, \n\u001b[32m     29\u001b[39m     AutoModelForCausalLM\n\u001b[32m     30\u001b[39m )\n\u001b[32m     31\u001b[39m \u001b[38;5;28;01mfrom\u001b[39;00m\u001b[38;5;250m \u001b[39m\u001b[34;01mstarvector\u001b[39;00m\u001b[34;01m.\u001b[39;00m\u001b[34;01mmodel\u001b[39;00m\u001b[34;01m.\u001b[39;00m\u001b[34;01mstarvector_arch\u001b[39;00m\u001b[38;5;250m \u001b[39m\u001b[38;5;28;01mimport\u001b[39;00m StarVectorConfig, StarVectorForCausalLM\n\u001b[32m---> \u001b[39m\u001b[32m32\u001b[39m \u001b[38;5;28;01mfrom\u001b[39;00m\u001b[38;5;250m \u001b[39m\u001b[34;01mstarvector\u001b[39;00m\u001b[34;01m.\u001b[39;00m\u001b[34;01mtrain\u001b[39;00m\u001b[34;01m.\u001b[39;00m\u001b[34;01mzero_to_fp32\u001b[39;00m\u001b[38;5;250m \u001b[39m\u001b[38;5;28;01mimport\u001b[39;00m convert_zero_checkpoint_to_fp32_state_dict\n\u001b[32m     35\u001b[39m \u001b[38;5;28;01mdef\u001b[39;00m\u001b[38;5;250m \u001b[39m\u001b[34mis_deepspeed\u001b[39m(checkpoint_dir):\n\u001b[32m     36\u001b[39m     \u001b[38;5;66;03m# Check zero_to_fp32.py file (generated only in deepspeed training)\u001b[39;00m\n\u001b[32m     37\u001b[39m     \u001b[38;5;28;01mreturn\u001b[39;00m os.path.exists(os.path.join(checkpoint_dir, \u001b[33m'\u001b[39m\u001b[33mzero_to_fp32.py\u001b[39m\u001b[33m'\u001b[39m))\n",
      "\u001b[36mFile \u001b[39m\u001b[32m~/github-repos/text-to-svg-genie/venv/lib/python3.11/site-packages/starvector/train/zero_to_fp32.py:27\u001b[39m\n\u001b[32m     24\u001b[39m \u001b[38;5;66;03m# while this script doesn't use deepspeed to recover data, since the checkpoints are pickled with\u001b[39;00m\n\u001b[32m     25\u001b[39m \u001b[38;5;66;03m# DeepSpeed data structures it has to be available in the current python environment.\u001b[39;00m\n\u001b[32m     26\u001b[39m \u001b[38;5;28;01mfrom\u001b[39;00m\u001b[38;5;250m \u001b[39m\u001b[34;01mdeepspeed\u001b[39;00m\u001b[34;01m.\u001b[39;00m\u001b[34;01mutils\u001b[39;00m\u001b[38;5;250m \u001b[39m\u001b[38;5;28;01mimport\u001b[39;00m logger\n\u001b[32m---> \u001b[39m\u001b[32m27\u001b[39m \u001b[38;5;28;01mfrom\u001b[39;00m\u001b[38;5;250m \u001b[39m\u001b[34;01mdeepspeed\u001b[39;00m\u001b[34;01m.\u001b[39;00m\u001b[34;01mcheckpoint\u001b[39;00m\u001b[34;01m.\u001b[39;00m\u001b[34;01mconstants\u001b[39;00m\u001b[38;5;250m \u001b[39m\u001b[38;5;28;01mimport\u001b[39;00m (DS_VERSION, OPTIMIZER_STATE_DICT, SINGLE_PARTITION_OF_FP32_GROUPS,\n\u001b[32m     28\u001b[39m                                             FP32_FLAT_GROUPS, ZERO_STAGE, PARTITION_COUNT, PARAM_SHAPES, BUFFER_NAMES,\n\u001b[32m     29\u001b[39m                                             FROZEN_PARAM_SHAPES, FROZEN_PARAM_FRAGMENTS)\n\u001b[32m     32\u001b[39m \u001b[38;5;129m@dataclass\u001b[39m\n\u001b[32m     33\u001b[39m \u001b[38;5;28;01mclass\u001b[39;00m\u001b[38;5;250m \u001b[39m\u001b[34;01mzero_model_state\u001b[39;00m:\n\u001b[32m     34\u001b[39m     buffers: \u001b[38;5;28mdict\u001b[39m()\n",
      "\u001b[36mFile \u001b[39m\u001b[32m~/github-repos/text-to-svg-genie/venv/lib/python3.11/site-packages/deepspeed/__init__.py:25\u001b[39m\n\u001b[32m     22\u001b[39m \u001b[38;5;28;01melse\u001b[39;00m:\n\u001b[32m     23\u001b[39m     HAS_TRITON = \u001b[38;5;28;01mFalse\u001b[39;00m\n\u001b[32m---> \u001b[39m\u001b[32m25\u001b[39m \u001b[38;5;28;01mfrom\u001b[39;00m\u001b[38;5;250m \u001b[39m\u001b[34;01m.\u001b[39;00m\u001b[38;5;250m \u001b[39m\u001b[38;5;28;01mimport\u001b[39;00m ops\n\u001b[32m     26\u001b[39m \u001b[38;5;28;01mfrom\u001b[39;00m\u001b[38;5;250m \u001b[39m\u001b[34;01m.\u001b[39;00m\u001b[38;5;250m \u001b[39m\u001b[38;5;28;01mimport\u001b[39;00m module_inject\n\u001b[32m     28\u001b[39m \u001b[38;5;28;01mfrom\u001b[39;00m\u001b[38;5;250m \u001b[39m\u001b[34;01m.\u001b[39;00m\u001b[34;01maccelerator\u001b[39;00m\u001b[38;5;250m \u001b[39m\u001b[38;5;28;01mimport\u001b[39;00m get_accelerator\n",
      "\u001b[36mFile \u001b[39m\u001b[32m~/github-repos/text-to-svg-genie/venv/lib/python3.11/site-packages/deepspeed/ops/__init__.py:15\u001b[39m\n\u001b[32m     12\u001b[39m \u001b[38;5;28;01mfrom\u001b[39;00m\u001b[38;5;250m \u001b[39m\u001b[34;01m.\u001b[39;00m\u001b[38;5;250m \u001b[39m\u001b[38;5;28;01mimport\u001b[39;00m fp_quantizer\n\u001b[32m     13\u001b[39m \u001b[38;5;28;01mfrom\u001b[39;00m\u001b[38;5;250m \u001b[39m\u001b[34;01m.\u001b[39;00m\u001b[34;01mtransformer\u001b[39;00m\u001b[38;5;250m \u001b[39m\u001b[38;5;28;01mimport\u001b[39;00m DeepSpeedTransformerLayer, DeepSpeedTransformerConfig\n\u001b[32m---> \u001b[39m\u001b[32m15\u001b[39m \u001b[38;5;28;01mfrom\u001b[39;00m\u001b[38;5;250m \u001b[39m\u001b[34;01m.\u001b[39;00m\u001b[34;01m.\u001b[39;00m\u001b[34;01mgit_version_info\u001b[39;00m\u001b[38;5;250m \u001b[39m\u001b[38;5;28;01mimport\u001b[39;00m compatible_ops \u001b[38;5;28;01mas\u001b[39;00m __compatible_ops__\n",
      "\u001b[36mFile \u001b[39m\u001b[32m~/github-repos/text-to-svg-genie/venv/lib/python3.11/site-packages/deepspeed/git_version_info.py:29\u001b[39m\n\u001b[32m     27\u001b[39m compatible_ops = \u001b[38;5;28mdict\u001b[39m.fromkeys(ALL_OPS.keys(), \u001b[38;5;28;01mFalse\u001b[39;00m)\n\u001b[32m     28\u001b[39m \u001b[38;5;28;01mfor\u001b[39;00m op_name, builder \u001b[38;5;129;01min\u001b[39;00m ALL_OPS.items():\n\u001b[32m---> \u001b[39m\u001b[32m29\u001b[39m     op_compatible = \u001b[43mbuilder\u001b[49m\u001b[43m.\u001b[49m\u001b[43mis_compatible\u001b[49m\u001b[43m(\u001b[49m\u001b[43m)\u001b[49m\n\u001b[32m     30\u001b[39m     compatible_ops[op_name] = op_compatible\n\u001b[32m     31\u001b[39m     compatible_ops[\u001b[33m\"\u001b[39m\u001b[33mdeepspeed_not_implemented\u001b[39m\u001b[33m\"\u001b[39m] = \u001b[38;5;28;01mFalse\u001b[39;00m\n",
      "\u001b[36mFile \u001b[39m\u001b[32m~/github-repos/text-to-svg-genie/venv/lib/python3.11/site-packages/deepspeed/ops/op_builder/fp_quantizer.py:35\u001b[39m, in \u001b[36mFPQuantizerBuilder.is_compatible\u001b[39m\u001b[34m(self, verbose)\u001b[39m\n\u001b[32m     33\u001b[39m cuda_okay = \u001b[38;5;28;01mTrue\u001b[39;00m\n\u001b[32m     34\u001b[39m \u001b[38;5;28;01mif\u001b[39;00m \u001b[38;5;129;01mnot\u001b[39;00m \u001b[38;5;28mself\u001b[39m.is_rocm_pytorch() \u001b[38;5;129;01mand\u001b[39;00m torch.cuda.is_available():  \u001b[38;5;66;03m#ignore-cuda\u001b[39;00m\n\u001b[32m---> \u001b[39m\u001b[32m35\u001b[39m     sys_cuda_major, _ = \u001b[43minstalled_cuda_version\u001b[49m\u001b[43m(\u001b[49m\u001b[43m)\u001b[49m\n\u001b[32m     36\u001b[39m     torch_cuda_major = \u001b[38;5;28mint\u001b[39m(torch.version.cuda.split(\u001b[33m'\u001b[39m\u001b[33m.\u001b[39m\u001b[33m'\u001b[39m)[\u001b[32m0\u001b[39m])\n\u001b[32m     37\u001b[39m     cuda_capability = torch.cuda.get_device_properties(\u001b[32m0\u001b[39m).major  \u001b[38;5;66;03m#ignore-cuda\u001b[39;00m\n",
      "\u001b[36mFile \u001b[39m\u001b[32m~/github-repos/text-to-svg-genie/venv/lib/python3.11/site-packages/deepspeed/ops/op_builder/builder.py:51\u001b[39m, in \u001b[36minstalled_cuda_version\u001b[39m\u001b[34m(name)\u001b[39m\n\u001b[32m     49\u001b[39m cuda_home = torch.utils.cpp_extension.CUDA_HOME\n\u001b[32m     50\u001b[39m \u001b[38;5;28;01mif\u001b[39;00m cuda_home \u001b[38;5;129;01mis\u001b[39;00m \u001b[38;5;28;01mNone\u001b[39;00m:\n\u001b[32m---> \u001b[39m\u001b[32m51\u001b[39m     \u001b[38;5;28;01mraise\u001b[39;00m MissingCUDAException(\u001b[33m\"\u001b[39m\u001b[33mCUDA_HOME does not exist, unable to compile CUDA op(s)\u001b[39m\u001b[33m\"\u001b[39m)\n\u001b[32m     52\u001b[39m \u001b[38;5;66;03m# Ensure there is not a cuda version mismatch between torch and nvcc compiler\u001b[39;00m\n\u001b[32m     53\u001b[39m output = subprocess.check_output([cuda_home + \u001b[33m\"\u001b[39m\u001b[33m/bin/nvcc\u001b[39m\u001b[33m\"\u001b[39m, \u001b[33m\"\u001b[39m\u001b[33m-V\u001b[39m\u001b[33m\"\u001b[39m], universal_newlines=\u001b[38;5;28;01mTrue\u001b[39;00m)\n",
      "\u001b[31mMissingCUDAException\u001b[39m: CUDA_HOME does not exist, unable to compile CUDA op(s)"
     ]
    }
   ],
   "source": [
    "from transformers import AutoTokenizer, AutoModelForCausalLM\n",
    "import torch\n",
    "\n",
    "# Load model and tokenizer\n",
    "model = AutoModelForCausalLM.from_pretrained(\"starvector/starvector-8b-im2svg\", trust_remote_code=True)\n",
    "tokenizer = model.svg_transformer.tokenizer\n",
    "model.cuda()\n",
    "\n",
    "# Prepare batch\n",
    "batch = {\n",
    "    \"caption\": [\"A green triangle with rounded corners\", \"Red hexagon with gradient fill\"],\n",
    "    \"image\": torch.zeros((2, 3, 256, 256)).cuda()  # Batch size 2, dummy image\n",
    "}\n",
    "\n",
    "# Generation parameters\n",
    "generate_config = {\n",
    "    \"max_length\": 512,\n",
    "    \"temperature\": 0.7,\n",
    "    \"top_p\": 0.9,\n",
    "    \"num_beams\": 3,\n",
    "    \"repetition_penalty\": 1.2\n",
    "}\n",
    "\n",
    "# Generate SVG tokens\n",
    "output_tokens = model.model.generate_text2svg(batch, **generate_config)\n",
    "\n",
    "# Decode to SVG strings\n",
    "svgs = [tokenizer.decode(seq, skip_special_tokens=True) for seq in output_tokens]\n"
   ]
  },
  {
   "cell_type": "markdown",
   "id": "33f5e4aa",
   "metadata": {
    "papermill": {
     "duration": 0.002013,
     "end_time": "2025-04-25T14:47:48.952253",
     "exception": false,
     "start_time": "2025-04-25T14:47:48.950240",
     "status": "completed"
    },
    "tags": []
   },
   "source": [
    "* open an image\n",
    "* 随便打开一张图片"
   ]
  },
  {
   "cell_type": "code",
   "execution_count": null,
   "id": "e8e4fd31",
   "metadata": {
    "execution": {
     "iopub.execute_input": "2025-04-25T14:47:48.957571Z",
     "iopub.status.busy": "2025-04-25T14:47:48.957134Z",
     "iopub.status.idle": "2025-04-25T14:47:49.001994Z",
     "shell.execute_reply": "2025-04-25T14:47:49.001341Z"
    },
    "papermill": {
     "duration": 0.048793,
     "end_time": "2025-04-25T14:47:49.003093",
     "exception": false,
     "start_time": "2025-04-25T14:47:48.954300",
     "status": "completed"
    },
    "tags": []
   },
   "outputs": [
    {
     "data": {
      "image/jpeg": "[encoded data removed]",
      "image/png": "[encoded data removed]",
      "text/plain": [
       "<PIL.PngImagePlugin.PngImageFile image mode=RGB size=224x224>"
      ]
     },
     "execution_count": 3,
     "metadata": {},
     "output_type": "execute_result"
    }
   ],
   "source": [
    "Image.open('/kaggle/input/my-picture/sample-6.png')"
   ]
  },
  {
   "cell_type": "markdown",
   "id": "05aeed87",
   "metadata": {
    "papermill": {
     "duration": 0.002122,
     "end_time": "2025-04-25T14:47:49.007662",
     "exception": false,
     "start_time": "2025-04-25T14:47:49.005540",
     "status": "completed"
    },
    "tags": []
   },
   "source": [
    "* 产生svg\n",
    "* Generate SVG"
   ]
  },
  {
   "cell_type": "code",
   "execution_count": null,
   "id": "b1a21899",
   "metadata": {
    "execution": {
     "iopub.execute_input": "2025-04-25T14:47:49.013252Z",
     "iopub.status.busy": "2025-04-25T14:47:49.012758Z",
     "iopub.status.idle": "2025-04-25T14:47:56.520431Z",
     "shell.execute_reply": "2025-04-25T14:47:56.519854Z"
    },
    "papermill": {
     "duration": 7.511855,
     "end_time": "2025-04-25T14:47:56.521741",
     "exception": false,
     "start_time": "2025-04-25T14:47:49.009886",
     "status": "completed"
    },
    "tags": []
   },
   "outputs": [
    {
     "name": "stderr",
     "output_type": "stream",
     "text": [
      "Asking to truncate to max_length but no maximum length is provided and the model has no predefined maximum length. Default to no truncation.\n"
     ]
    }
   ],
   "source": [
    "starvector.cuda()\n",
    "starvector.eval()\n",
    "image_pil = Image.open('/kaggle/input/my-picture/sample-6.png')\n",
    "image =starvector.process_images([image_pil])[0].cuda()\n",
    "if not image.shape[0] == 1:\n",
    "    image = image.squeeze(0)\n",
    "batch ={\"image\": image,\"use_flash_attn\": False}\n",
    "\n",
    "raw_svg = starvector.generate_im2svg(batch, max_length=4000)[0]\n",
    "svg, raster_image = process_and_rasterize_svg(raw_svg)"
   ]
  },
  {
   "cell_type": "markdown",
   "id": "7fe8def7",
   "metadata": {
    "papermill": {
     "duration": 0.002374,
     "end_time": "2025-04-25T14:47:56.526974",
     "exception": false,
     "start_time": "2025-04-25T14:47:56.524600",
     "status": "completed"
    },
    "tags": []
   },
   "source": [
    "* 查看结果\n",
    "* view the result"
   ]
  },
  {
   "cell_type": "code",
   "execution_count": null,
   "id": "60845419",
   "metadata": {
    "execution": {
     "iopub.execute_input": "2025-04-25T14:47:56.532384Z",
     "iopub.status.busy": "2025-04-25T14:47:56.532158Z",
     "iopub.status.idle": "2025-04-25T14:47:56.536696Z",
     "shell.execute_reply": "2025-04-25T14:47:56.536129Z"
    },
    "papermill": {
     "duration": 0.00847,
     "end_time": "2025-04-25T14:47:56.537735",
     "exception": false,
     "start_time": "2025-04-25T14:47:56.529265",
     "status": "completed"
    },
    "tags": []
   },
   "outputs": [
    {
     "data": {
      "image/svg+xml": [
       "<svg xmlns=\"http://www.w3.org/2000/svg\" viewBox=\"0 0 1024 1024\">\n",
       "   <circle cx=\"512\" cy=\"512\" r=\"512\" style=\"fill:#4bca81\"/>\n",
       "   <path d=\"M458.2 681.4c0 7.2-10.2 13.1-22.8 13.1h-49.6c-12.6 0-22.8-5.9-22.8-13.1V342.6c0-7.2 10.2-13.1 22.8-13.1h49.6c12.6 0 22.8 5.9 22.8 13.1v338.8zm198.4 0c0 7.2-10.2 13.1-22.8 13.1h-49.6c-12.6 0-22.8-5.9-22.8-13.1V342.6c0-7.2 10.2-13.1 22.8-13.1h49.6c12.6 0 22.8 5.9 22.8 13.1v338.8z\" style=\"fill:#fff\"/>\n",
       "</svg>"
      ],
      "text/plain": [
       "<IPython.core.display.SVG object>"
      ]
     },
     "execution_count": 5,
     "metadata": {},
     "output_type": "execute_result"
    }
   ],
   "source": [
    "from IPython.display import SVG\n",
    "SVG(svg)"
   ]
  }
 ],
 "metadata": {
  "kaggle": {
   "accelerator": "nvidiaTeslaT4",
   "dataSources": [
    {
     "databundleVersionId": 11735795,
     "sourceId": 89659,
     "sourceType": "competition"
    },
    {
     "datasetId": 7247230,
     "sourceId": 11558375,
     "sourceType": "datasetVersion"
    },
    {
     "modelId": 318111,
     "modelInstanceId": 297504,
     "sourceId": 356898,
     "sourceType": "modelInstanceVersion"
    }
   ],
   "isGpuEnabled": true,
   "isInternetEnabled": true,
   "language": "python",
   "sourceType": "notebook"
  },
  "kernelspec": {
   "display_name": "venv",
   "language": "python",
   "name": "python3"
  },
  "language_info": {
   "codemirror_mode": {
    "name": "ipython",
    "version": 3
   },
   "file_extension": ".py",
   "mimetype": "text/x-python",
   "name": "python",
   "nbconvert_exporter": "python",
   "pygments_lexer": "ipython3",
   "version": "3.11.11"
  },
  "papermill": {
   "default_parameters": {},
   "duration": 89.127575,
   "end_time": "2025-04-25T14:47:59.765823",
   "environment_variables": {},
   "exception": null,
   "input_path": "__notebook__.ipynb",
   "output_path": "__notebook__.ipynb",
   "parameters": {},
   "start_time": "2025-04-25T14:46:30.638248",
   "version": "2.6.0"
  },
  "widgets": {
   "application/vnd.jupyter.widget-state+json": {
    "state": {
     "01f5d44231a44a10853e8c229a2f47e1": {
      "model_module": "@jupyter-widgets/controls",
      "model_module_version": "2.0.0",
      "model_name": "HTMLStyleModel",
      "state": {
       "_model_module": "@jupyter-widgets/controls",
       "_model_module_version": "2.0.0",
       "_model_name": "HTMLStyleModel",
       "_view_count": null,
       "_view_module": "@jupyter-widgets/base",
       "_view_module_version": "2.0.0",
       "_view_name": "StyleView",
       "background": null,
       "description_width": "",
       "font_size": null,
       "text_color": null
      }
     },
     "02c570b115224190af62dbe44c84bbdb": {
      "model_module": "@jupyter-widgets/controls",
      "model_module_version": "2.0.0",
      "model_name": "HTMLStyleModel",
      "state": {
       "_model_module": "@jupyter-widgets/controls",
       "_model_module_version": "2.0.0",
       "_model_name": "HTMLStyleModel",
       "_view_count": null,
       "_view_module": "@jupyter-widgets/base",
       "_view_module_version": "2.0.0",
       "_view_name": "StyleView",
       "background": null,
       "description_width": "",
       "font_size": null,
       "text_color": null
      }
     },
     "0cd0e9320a844870a7c6a166430897d2": {
      "model_module": "@jupyter-widgets/base",
      "model_module_version": "2.0.0",
      "model_name": "LayoutModel",
      "state": {
       "_model_module": "@jupyter-widgets/base",
       "_model_module_version": "2.0.0",
       "_model_name": "LayoutModel",
       "_view_count": null,
       "_view_module": "@jupyter-widgets/base",
       "_view_module_version": "2.0.0",
       "_view_name": "LayoutView",
       "align_content": null,
       "align_items": null,
       "align_self": null,
       "border_bottom": null,
       "border_left": null,
       "border_right": null,
       "border_top": null,
       "bottom": null,
       "display": null,
       "flex": null,
       "flex_flow": null,
       "grid_area": null,
       "grid_auto_columns": null,
       "grid_auto_flow": null,
       "grid_auto_rows": null,
       "grid_column": null,
       "grid_gap": null,
       "grid_row": null,
       "grid_template_areas": null,
       "grid_template_columns": null,
       "grid_template_rows": null,
       "height": null,
       "justify_content": null,
       "justify_items": null,
       "left": null,
       "margin": null,
       "max_height": null,
       "max_width": null,
       "min_height": null,
       "min_width": null,
       "object_fit": null,
       "object_position": null,
       "order": null,
       "overflow": null,
       "padding": null,
       "right": null,
       "top": null,
       "visibility": null,
       "width": null
      }
     },
     "487a390064314b62b4398c9ed4df8300": {
      "model_module": "@jupyter-widgets/controls",
      "model_module_version": "2.0.0",
      "model_name": "ProgressStyleModel",
      "state": {
       "_model_module": "@jupyter-widgets/controls",
       "_model_module_version": "2.0.0",
       "_model_name": "ProgressStyleModel",
       "_view_count": null,
       "_view_module": "@jupyter-widgets/base",
       "_view_module_version": "2.0.0",
       "_view_name": "StyleView",
       "bar_color": null,
       "description_width": ""
      }
     },
     "4ddde801a2a94b71a0862c0815632eee": {
      "model_module": "@jupyter-widgets/controls",
      "model_module_version": "2.0.0",
      "model_name": "HBoxModel",
      "state": {
       "_dom_classes": [],
       "_model_module": "@jupyter-widgets/controls",
       "_model_module_version": "2.0.0",
       "_model_name": "HBoxModel",
       "_view_count": null,
       "_view_module": "@jupyter-widgets/controls",
       "_view_module_version": "2.0.0",
       "_view_name": "HBoxView",
       "box_style": "",
       "children": [
        "IPY_MODEL_74f41110124e4de6bb82c977e21c4c4f",
        "IPY_MODEL_8c6a40c39e1d46cbae0e1bdf0407abd6",
        "IPY_MODEL_fa451c7830d4402fad20e03797462171"
       ],
       "layout": "IPY_MODEL_0cd0e9320a844870a7c6a166430897d2",
       "tabbable": null,
       "tooltip": null
      }
     },
     "74f41110124e4de6bb82c977e21c4c4f": {
      "model_module": "@jupyter-widgets/controls",
      "model_module_version": "2.0.0",
      "model_name": "HTMLModel",
      "state": {
       "_dom_classes": [],
       "_model_module": "@jupyter-widgets/controls",
       "_model_module_version": "2.0.0",
       "_model_name": "HTMLModel",
       "_view_count": null,
       "_view_module": "@jupyter-widgets/controls",
       "_view_module_version": "2.0.0",
       "_view_name": "HTMLView",
       "description": "",
       "description_allow_html": false,
       "layout": "IPY_MODEL_b3f0ea3ca57d413c9be72c495b4cbb91",
       "placeholder": "​",
       "style": "IPY_MODEL_02c570b115224190af62dbe44c84bbdb",
       "tabbable": null,
       "tooltip": null,
       "value": "Loading checkpoint shards: 100%"
      }
     },
     "8c6a40c39e1d46cbae0e1bdf0407abd6": {
      "model_module": "@jupyter-widgets/controls",
      "model_module_version": "2.0.0",
      "model_name": "FloatProgressModel",
      "state": {
       "_dom_classes": [],
       "_model_module": "@jupyter-widgets/controls",
       "_model_module_version": "2.0.0",
       "_model_name": "FloatProgressModel",
       "_view_count": null,
       "_view_module": "@jupyter-widgets/controls",
       "_view_module_version": "2.0.0",
       "_view_name": "ProgressView",
       "bar_style": "success",
       "description": "",
       "description_allow_html": false,
       "layout": "IPY_MODEL_c8fc1cfd7694454fb86655b4e47425e7",
       "max": 2,
       "min": 0,
       "orientation": "horizontal",
       "style": "IPY_MODEL_487a390064314b62b4398c9ed4df8300",
       "tabbable": null,
       "tooltip": null,
       "value": 2
      }
     },
     "972a4c9e946a44fa95f018035135aae5": {
      "model_module": "@jupyter-widgets/base",
      "model_module_version": "2.0.0",
      "model_name": "LayoutModel",
      "state": {
       "_model_module": "@jupyter-widgets/base",
       "_model_module_version": "2.0.0",
       "_model_name": "LayoutModel",
       "_view_count": null,
       "_view_module": "@jupyter-widgets/base",
       "_view_module_version": "2.0.0",
       "_view_name": "LayoutView",
       "align_content": null,
       "align_items": null,
       "align_self": null,
       "border_bottom": null,
       "border_left": null,
       "border_right": null,
       "border_top": null,
       "bottom": null,
       "display": null,
       "flex": null,
       "flex_flow": null,
       "grid_area": null,
       "grid_auto_columns": null,
       "grid_auto_flow": null,
       "grid_auto_rows": null,
       "grid_column": null,
       "grid_gap": null,
       "grid_row": null,
       "grid_template_areas": null,
       "grid_template_columns": null,
       "grid_template_rows": null,
       "height": null,
       "justify_content": null,
       "justify_items": null,
       "left": null,
       "margin": null,
       "max_height": null,
       "max_width": null,
       "min_height": null,
       "min_width": null,
       "object_fit": null,
       "object_position": null,
       "order": null,
       "overflow": null,
       "padding": null,
       "right": null,
       "top": null,
       "visibility": null,
       "width": null
      }
     },
     "b3f0ea3ca57d413c9be72c495b4cbb91": {
      "model_module": "@jupyter-widgets/base",
      "model_module_version": "2.0.0",
      "model_name": "LayoutModel",
      "state": {
       "_model_module": "@jupyter-widgets/base",
       "_model_module_version": "2.0.0",
       "_model_name": "LayoutModel",
       "_view_count": null,
       "_view_module": "@jupyter-widgets/base",
       "_view_module_version": "2.0.0",
       "_view_name": "LayoutView",
       "align_content": null,
       "align_items": null,
       "align_self": null,
       "border_bottom": null,
       "border_left": null,
       "border_right": null,
       "border_top": null,
       "bottom": null,
       "display": null,
       "flex": null,
       "flex_flow": null,
       "grid_area": null,
       "grid_auto_columns": null,
       "grid_auto_flow": null,
       "grid_auto_rows": null,
       "grid_column": null,
       "grid_gap": null,
       "grid_row": null,
       "grid_template_areas": null,
       "grid_template_columns": null,
       "grid_template_rows": null,
       "height": null,
       "justify_content": null,
       "justify_items": null,
       "left": null,
       "margin": null,
       "max_height": null,
       "max_width": null,
       "min_height": null,
       "min_width": null,
       "object_fit": null,
       "object_position": null,
       "order": null,
       "overflow": null,
       "padding": null,
       "right": null,
       "top": null,
       "visibility": null,
       "width": null
      }
     },
     "c8fc1cfd7694454fb86655b4e47425e7": {
      "model_module": "@jupyter-widgets/base",
      "model_module_version": "2.0.0",
      "model_name": "LayoutModel",
      "state": {
       "_model_module": "@jupyter-widgets/base",
       "_model_module_version": "2.0.0",
       "_model_name": "LayoutModel",
       "_view_count": null,
       "_view_module": "@jupyter-widgets/base",
       "_view_module_version": "2.0.0",
       "_view_name": "LayoutView",
       "align_content": null,
       "align_items": null,
       "align_self": null,
       "border_bottom": null,
       "border_left": null,
       "border_right": null,
       "border_top": null,
       "bottom": null,
       "display": null,
       "flex": null,
       "flex_flow": null,
       "grid_area": null,
       "grid_auto_columns": null,
       "grid_auto_flow": null,
       "grid_auto_rows": null,
       "grid_column": null,
       "grid_gap": null,
       "grid_row": null,
       "grid_template_areas": null,
       "grid_template_columns": null,
       "grid_template_rows": null,
       "height": null,
       "justify_content": null,
       "justify_items": null,
       "left": null,
       "margin": null,
       "max_height": null,
       "max_width": null,
       "min_height": null,
       "min_width": null,
       "object_fit": null,
       "object_position": null,
       "order": null,
       "overflow": null,
       "padding": null,
       "right": null,
       "top": null,
       "visibility": null,
       "width": null
      }
     },
     "fa451c7830d4402fad20e03797462171": {
      "model_module": "@jupyter-widgets/controls",
      "model_module_version": "2.0.0",
      "model_name": "HTMLModel",
      "state": {
       "_dom_classes": [],
       "_model_module": "@jupyter-widgets/controls",
       "_model_module_version": "2.0.0",
       "_model_name": "HTMLModel",
       "_view_count": null,
       "_view_module": "@jupyter-widgets/controls",
       "_view_module_version": "2.0.0",
       "_view_name": "HTMLView",
       "description": "",
       "description_allow_html": false,
       "layout": "IPY_MODEL_972a4c9e946a44fa95f018035135aae5",
       "placeholder": "​",
       "style": "IPY_MODEL_01f5d44231a44a10853e8c229a2f47e1",
       "tabbable": null,
       "tooltip": null,
       "value": " 2/2 [00:20&lt;00:00,  8.81s/it]"
      }
     }
    },
    "version_major": 2,
    "version_minor": 0
   }
  }
 },
 "nbformat": 4,
 "nbformat_minor": 5
}
